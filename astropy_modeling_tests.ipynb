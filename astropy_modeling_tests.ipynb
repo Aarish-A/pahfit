{
 "cells": [
  {
   "cell_type": "code",
   "execution_count": null,
   "metadata": {
    "collapsed": false
   },
   "outputs": [],
   "source": [
    "from pypahfit.PAHFit import PAHFit\n",
    "import numpy as np\n",
    "import astropy.units as u"
   ]
  },
  {
   "cell_type": "code",
   "execution_count": null,
   "metadata": {
    "collapsed": false
   },
   "outputs": [],
   "source": [
    "print(PAHFit)"
   ]
  },
  {
   "cell_type": "code",
   "execution_count": null,
   "metadata": {
    "collapsed": false
   },
   "outputs": [],
   "source": [
    "a = PAHFit()"
   ]
  },
  {
   "cell_type": "code",
   "execution_count": null,
   "metadata": {
    "collapsed": false
   },
   "outputs": [],
   "source": [
    "print(a._parameters)"
   ]
  },
  {
   "cell_type": "code",
   "execution_count": null,
   "metadata": {
    "collapsed": false
   },
   "outputs": [],
   "source": [
    "print(a._param_names)"
   ]
  },
  {
   "cell_type": "code",
   "execution_count": null,
   "metadata": {
    "collapsed": false
   },
   "outputs": [],
   "source": [
    "print(a)"
   ]
  },
  {
   "cell_type": "code",
   "execution_count": null,
   "metadata": {
    "collapsed": true
   },
   "outputs": [],
   "source": [
    "x = np.arange(5.0, 40.0, 0.1)"
   ]
  },
  {
   "cell_type": "code",
   "execution_count": null,
   "metadata": {
    "collapsed": false
   },
   "outputs": [],
   "source": [
    "y = a(x)"
   ]
  },
  {
   "cell_type": "code",
   "execution_count": null,
   "metadata": {
    "collapsed": false
   },
   "outputs": [],
   "source": [
    "from astropy.modeling.polynomial import Polynomial1D"
   ]
  },
  {
   "cell_type": "code",
   "execution_count": null,
   "metadata": {
    "collapsed": false
   },
   "outputs": [],
   "source": [
    "print(Polynomial1D)"
   ]
  },
  {
   "cell_type": "code",
   "execution_count": null,
   "metadata": {
    "collapsed": false
   },
   "outputs": [],
   "source": [
    "b = Polynomial1D(degree=4)"
   ]
  },
  {
   "cell_type": "code",
   "execution_count": null,
   "metadata": {
    "collapsed": false
   },
   "outputs": [],
   "source": [
    "print(b._parameters)"
   ]
  },
  {
   "cell_type": "code",
   "execution_count": null,
   "metadata": {
    "collapsed": false
   },
   "outputs": [],
   "source": [
    "print(b._param_names)"
   ]
  },
  {
   "cell_type": "code",
   "execution_count": null,
   "metadata": {
    "collapsed": false
   },
   "outputs": [],
   "source": [
    "print(b._param_metrics)"
   ]
  },
  {
   "cell_type": "code",
   "execution_count": 1,
   "metadata": {
    "collapsed": false
   },
   "outputs": [],
   "source": [
    "from pypahfit.PAHFit2 import PF_BlackBodies"
   ]
  },
  {
   "cell_type": "code",
   "execution_count": 2,
   "metadata": {
    "collapsed": false
   },
   "outputs": [],
   "source": [
    "c = PF_BlackBodies()"
   ]
  },
  {
   "cell_type": "code",
   "execution_count": 4,
   "metadata": {
    "collapsed": false
   },
   "outputs": [],
   "source": [
    "c.bb200 = 10."
   ]
  },
  {
   "cell_type": "code",
   "execution_count": 5,
   "metadata": {
    "collapsed": false
   },
   "outputs": [
    {
     "name": "stdout",
     "output_type": "stream",
     "text": [
      "Model: PF_BlackBodies\n",
      "Inputs: ('x',)\n",
      "Outputs: ('y',)\n",
      "Model set size: 1\n",
      "Degree: 8\n",
      "Parameters:\n",
      "    bb300 bb200 bb135 bb90 bb65 bb50 bb40 bb35\n",
      "    ----- ----- ----- ---- ---- ---- ---- ----\n",
      "      0.0  10.0   0.0  0.0  0.0  0.0  0.0  0.0\n"
     ]
    }
   ],
   "source": [
    "print(c)"
   ]
  },
  {
   "cell_type": "code",
   "execution_count": 6,
   "metadata": {
    "collapsed": true
   },
   "outputs": [],
   "source": [
    "import numpy as np"
   ]
  },
  {
   "cell_type": "code",
   "execution_count": 7,
   "metadata": {
    "collapsed": true
   },
   "outputs": [],
   "source": [
    "x = np.arange(5.0, 40.0, 0.1)"
   ]
  },
  {
   "cell_type": "code",
   "execution_count": 8,
   "metadata": {
    "collapsed": false
   },
   "outputs": [
    {
     "name": "stdout",
     "output_type": "stream",
     "text": [
      "[  6.74961392e+06   8.10584283e+06   9.64806363e+06   1.13877992e+07\n",
      "   1.33356458e+07   1.55011371e+07   1.78926284e+07   2.05172018e+07\n",
      "   2.33805935e+07   2.64871430e+07   2.98397630e+07   3.34399288e+07\n",
      "   3.72876874e+07   4.13816825e+07   4.57191952e+07   5.02961983e+07\n",
      "   5.51074216e+07   6.01464269e+07   6.54056909e+07   7.08766934e+07\n",
      "   7.65500107e+07   8.24154108e+07   8.84619502e+07   9.46780711e+07\n",
      "   1.01051697e+08   1.07570325e+08   1.14221121e+08   1.20991000e+08\n",
      "   1.27866716e+08   1.34834937e+08   1.41882317e+08   1.48995569e+08\n",
      "   1.56161525e+08   1.63367193e+08   1.70599811e+08   1.77846894e+08\n",
      "   1.85096277e+08   1.92336147e+08   1.99555081e+08   2.06742068e+08\n",
      "   2.13886537e+08   2.20978370e+08   2.28007924e+08   2.34966032e+08\n",
      "   2.41844023e+08   2.48633717e+08   2.55327429e+08   2.61917974e+08\n",
      "   2.68398655e+08   2.74763265e+08   2.81006077e+08   2.87121833e+08\n",
      "   2.93105741e+08   2.98953456e+08   3.04661070e+08   3.10225102e+08\n",
      "   3.15642480e+08   3.20910526e+08   3.26026944e+08   3.30989803e+08\n",
      "   3.35797521e+08   3.40448850e+08   3.44942857e+08   3.49278912e+08\n",
      "   3.53456673e+08   3.57476064e+08   3.61337267e+08   3.65040702e+08\n",
      "   3.68587016e+08   3.71977064e+08   3.75211900e+08   3.78292758e+08\n",
      "   3.81221046e+08   3.83998324e+08   3.86626300e+08   3.89106815e+08\n",
      "   3.91441829e+08   3.93633415e+08   3.95683744e+08   3.97595080e+08\n",
      "   3.99369765e+08   4.01010213e+08   4.02518904e+08   4.03898369e+08\n",
      "   4.05151189e+08   4.06279985e+08   4.07287409e+08   4.08176141e+08\n",
      "   4.08948883e+08   4.09608349e+08   4.10157265e+08   4.10598360e+08\n",
      "   4.10934363e+08   4.11168001e+08   4.11301989e+08   4.11339031e+08\n",
      "   4.11281816e+08   4.11133014e+08   4.10895273e+08   4.10571216e+08\n",
      "   4.10163439e+08   4.09674510e+08   4.09106964e+08   4.08463304e+08\n",
      "   4.07745998e+08   4.06957478e+08   4.06100137e+08   4.05176333e+08\n",
      "   4.04188379e+08   4.03138552e+08   4.02029085e+08   4.00862170e+08\n",
      "   3.99639956e+08   3.98364551e+08   3.97038017e+08   3.95662374e+08\n",
      "   3.94239600e+08   3.92771626e+08   3.91260343e+08   3.89707596e+08\n",
      "   3.88115189e+08   3.86484880e+08   3.84818387e+08   3.83117385e+08\n",
      "   3.81383505e+08   3.79618339e+08   3.77823435e+08   3.76000304e+08\n",
      "   3.74150412e+08   3.72275189e+08   3.70376024e+08   3.68454268e+08\n",
      "   3.66511235e+08   3.64548198e+08   3.62566398e+08   3.60567037e+08\n",
      "   3.58551281e+08   3.56520263e+08   3.54475081e+08   3.52416800e+08\n",
      "   3.50346450e+08   3.48265033e+08   3.46173515e+08   3.44072834e+08\n",
      "   3.41963897e+08   3.39847582e+08   3.37724737e+08   3.35596182e+08\n",
      "   3.33462711e+08   3.31325090e+08   3.29184059e+08   3.27040333e+08\n",
      "   3.24894600e+08   3.22747526e+08   3.20599752e+08   3.18451897e+08\n",
      "   3.16304556e+08   3.14158303e+08   3.12013690e+08   3.09871251e+08\n",
      "   3.07731495e+08   3.05594914e+08   3.03461983e+08   3.01333153e+08\n",
      "   2.99208862e+08   2.97089529e+08   2.94975553e+08   2.92867320e+08\n",
      "   2.90765200e+08   2.88669544e+08   2.86580690e+08   2.84498962e+08\n",
      "   2.82424669e+08   2.80358104e+08   2.78299551e+08   2.76249276e+08\n",
      "   2.74207537e+08   2.72174575e+08   2.70150623e+08   2.68135902e+08\n",
      "   2.66130619e+08   2.64134973e+08   2.62149151e+08   2.60173332e+08\n",
      "   2.58207682e+08   2.56252360e+08   2.54307516e+08   2.52373288e+08\n",
      "   2.50449809e+08   2.48537203e+08   2.46635583e+08   2.44745059e+08\n",
      "   2.42865730e+08   2.40997688e+08   2.39141020e+08   2.37295804e+08\n",
      "   2.35462114e+08   2.33640015e+08   2.31829568e+08   2.30030827e+08\n",
      "   2.28243841e+08   2.26468653e+08   2.24705301e+08   2.22953818e+08\n",
      "   2.21214233e+08   2.19486568e+08   2.17770843e+08   2.16067073e+08\n",
      "   2.14375268e+08   2.12695433e+08   2.11027573e+08   2.09371686e+08\n",
      "   2.07727766e+08   2.06095807e+08   2.04475796e+08   2.02867720e+08\n",
      "   2.01271559e+08   1.99687295e+08   1.98114904e+08   1.96554359e+08\n",
      "   1.95005633e+08   1.93468695e+08   1.91943511e+08   1.90430045e+08\n",
      "   1.88928261e+08   1.87438119e+08   1.85959576e+08   1.84492591e+08\n",
      "   1.83037116e+08   1.81593106e+08   1.80160513e+08   1.78739285e+08\n",
      "   1.77329372e+08   1.75930721e+08   1.74543277e+08   1.73166986e+08\n",
      "   1.71801791e+08   1.70447635e+08   1.69104457e+08   1.67772200e+08\n",
      "   1.66450803e+08   1.65140203e+08   1.63840340e+08   1.62551149e+08\n",
      "   1.61272567e+08   1.60004531e+08   1.58746974e+08   1.57499832e+08\n",
      "   1.56263038e+08   1.55036525e+08   1.53820228e+08   1.52614078e+08\n",
      "   1.51418008e+08   1.50231949e+08   1.49055834e+08   1.47889594e+08\n",
      "   1.46733159e+08   1.45586461e+08   1.44449430e+08   1.43321997e+08\n",
      "   1.42204094e+08   1.41095649e+08   1.39996594e+08   1.38906858e+08\n",
      "   1.37826373e+08   1.36755068e+08   1.35692874e+08   1.34639721e+08\n",
      "   1.33595540e+08   1.32560262e+08   1.31533816e+08   1.30516134e+08\n",
      "   1.29507148e+08   1.28506787e+08   1.27514983e+08   1.26531668e+08\n",
      "   1.25556774e+08   1.24590232e+08   1.23631975e+08   1.22681934e+08\n",
      "   1.21740044e+08   1.20806235e+08   1.19880443e+08   1.18962599e+08\n",
      "   1.18052639e+08   1.17150495e+08   1.16256103e+08   1.15369397e+08\n",
      "   1.14490313e+08   1.13618784e+08   1.12754749e+08   1.11898141e+08\n",
      "   1.11048898e+08   1.10206957e+08   1.09372254e+08   1.08544728e+08\n",
      "   1.07724315e+08   1.06910955e+08   1.06104587e+08   1.05305148e+08\n",
      "   1.04512579e+08   1.03726819e+08   1.02947809e+08   1.02175489e+08\n",
      "   1.01409801e+08   1.00650685e+08   9.98980841e+07   9.91519401e+07\n",
      "   9.84121958e+07   9.76787941e+07   9.69516788e+07   9.62307935e+07\n",
      "   9.55160828e+07   9.48074914e+07   9.41049644e+07   9.34084475e+07\n",
      "   9.27178867e+07   9.20332283e+07   9.13544193e+07   9.06814069e+07\n",
      "   9.00141387e+07   8.93525630e+07   8.86966282e+07   8.80462833e+07\n",
      "   8.74014775e+07   8.67621608e+07   8.61282831e+07   8.54997952e+07\n",
      "   8.48766480e+07   8.42587930e+07   8.36461819e+07   8.30387670e+07\n",
      "   8.24365009e+07   8.18393366e+07   8.12472276e+07   8.06601277e+07\n",
      "   8.00779911e+07   7.95007725e+07   7.89284269e+07   7.83609097e+07\n",
      "   7.77981767e+07   7.72401841e+07   7.66868885e+07   7.61382468e+07\n",
      "   7.55942165e+07   7.50547552e+07   7.45198210e+07   7.39893725e+07\n",
      "   7.34633685e+07   7.29417681e+07]\n"
     ]
    }
   ],
   "source": [
    "print(c(x))"
   ]
  },
  {
   "cell_type": "code",
   "execution_count": 9,
   "metadata": {
    "collapsed": false
   },
   "outputs": [
    {
     "ename": "ImportError",
     "evalue": "No module named 'astropy.modeling.blackbody'",
     "output_type": "error",
     "traceback": [
      "\u001b[0;31m---------------------------------------------------------------------------\u001b[0m",
      "\u001b[0;31mImportError\u001b[0m                               Traceback (most recent call last)",
      "\u001b[0;32m<ipython-input-9-f528c90a31b8>\u001b[0m in \u001b[0;36m<module>\u001b[0;34m()\u001b[0m\n\u001b[0;32m----> 1\u001b[0;31m \u001b[0;32mfrom\u001b[0m \u001b[0mastropy\u001b[0m\u001b[0;34m.\u001b[0m\u001b[0mmodeling\u001b[0m\u001b[0;34m.\u001b[0m\u001b[0mblackbody\u001b[0m \u001b[0;32mimport\u001b[0m \u001b[0mBlackBody1D\u001b[0m\u001b[0;34m\u001b[0m\u001b[0m\n\u001b[0m",
      "\u001b[0;31mImportError\u001b[0m: No module named 'astropy.modeling.blackbody'"
     ]
    }
   ],
   "source": [
    "from astropy.modeling.blackbody import BlackBody1D"
   ]
  },
  {
   "cell_type": "code",
   "execution_count": 10,
   "metadata": {
    "collapsed": true
   },
   "outputs": [],
   "source": [
    "from astropy.modeling.functional_models import Lorentz1D"
   ]
  },
  {
   "cell_type": "code",
   "execution_count": 12,
   "metadata": {
    "collapsed": false
   },
   "outputs": [],
   "source": [
    "z = Lorentz1D(amplitude=[1.0, 2.0], x_0=[0.0, 1.0], fwhm=[0.1, 0.2], n_models=2)"
   ]
  },
  {
   "cell_type": "code",
   "execution_count": 13,
   "metadata": {
    "collapsed": false
   },
   "outputs": [
    {
     "name": "stdout",
     "output_type": "stream",
     "text": [
      "Model: Lorentz1D\n",
      "Inputs: ('x',)\n",
      "Outputs: ('y',)\n",
      "Model set size: 2\n",
      "Parameters:\n",
      "    amplitude x_0 fwhm\n",
      "    --------- --- ----\n",
      "          1.0 0.0  0.1\n",
      "          2.0 1.0  0.2\n"
     ]
    }
   ],
   "source": [
    "print(z)"
   ]
  },
  {
   "cell_type": "code",
   "execution_count": 14,
   "metadata": {
    "collapsed": false
   },
   "outputs": [
    {
     "name": "stdout",
     "output_type": "stream",
     "text": [
      "Parameter('amplitude', value=[ 1.  2.])\n"
     ]
    }
   ],
   "source": [
    "print(z.amplitude)"
   ]
  },
  {
   "cell_type": "code",
   "execution_count": null,
   "metadata": {
    "collapsed": true
   },
   "outputs": [],
   "source": []
  }
 ],
 "metadata": {
  "kernelspec": {
   "display_name": "Python [astroconda3]",
   "language": "python",
   "name": "Python [astroconda3]"
  },
  "language_info": {
   "codemirror_mode": {
    "name": "ipython",
    "version": 3
   },
   "file_extension": ".py",
   "mimetype": "text/x-python",
   "name": "python",
   "nbconvert_exporter": "python",
   "pygments_lexer": "ipython3",
   "version": "3.5.4"
  }
 },
 "nbformat": 4,
 "nbformat_minor": 0
}
